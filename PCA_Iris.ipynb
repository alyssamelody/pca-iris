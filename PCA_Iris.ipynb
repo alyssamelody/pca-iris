{
 "cells": [
  {
   "cell_type": "markdown",
   "metadata": {},
   "source": [
    "# Principal Component Analysis on Iris Dataset\n",
    "\n",
    "<b>Dataset:</b><i> Iris Dataset</i> \n",
    "<br><a href=\"https://archive.ics.uci.edu/ml/datasets/iris\">Description</a>\n",
    "\n",
    "Attribute Information:\n",
    "\n",
    "1. sepal length in cm \n",
    "2. sepal width in cm \n",
    "3. petal length in cm \n",
    "4. petal width in cm \n",
    "5. class: \n",
    "    * Iris Setosa \n",
    "    * Iris Versicolour \n",
    "    * Iris Virginica"
   ]
  },
  {
   "cell_type": "markdown",
   "metadata": {},
   "source": [
    "## Import Libraries"
   ]
  },
  {
   "cell_type": "markdown",
   "metadata": {},
   "source": [
    "### Standard Libraries"
   ]
  },
  {
   "cell_type": "code",
   "execution_count": 1,
   "metadata": {},
   "outputs": [],
   "source": [
    "import pandas as pd \n",
    "import numpy as np\n",
    "import matplotlib.pyplot as plt\n",
    "import seaborn as sns\n",
    "\n",
    "%matplotlib inline\n"
   ]
  },
  {
   "cell_type": "markdown",
   "metadata": {},
   "source": [
    "### Additional Libraries"
   ]
  },
  {
   "cell_type": "code",
   "execution_count": 2,
   "metadata": {},
   "outputs": [],
   "source": [
    "from sklearn.decomposition import PCA\n",
    "from sklearn.preprocessing import StandardScaler"
   ]
  },
  {
   "cell_type": "markdown",
   "metadata": {},
   "source": [
    "### Load data from UCI Repository"
   ]
  },
  {
   "cell_type": "code",
   "execution_count": 3,
   "metadata": {},
   "outputs": [],
   "source": [
    "#load data from online archive with URL\n",
    "url = \"https://archive.ics.uci.edu/ml/machine-learning-databases/iris/iris.data\"\n",
    "# load dataset into Pandas DataFrame\n",
    "df = pd.read_csv(url, names=['sepal length','sepal width','petal length','petal width','target'])"
   ]
  },
  {
   "cell_type": "markdown",
   "metadata": {},
   "source": [
    "### Quickly inspect"
   ]
  },
  {
   "cell_type": "code",
   "execution_count": 4,
   "metadata": {},
   "outputs": [
    {
     "data": {
      "text/html": [
       "<div>\n",
       "<style scoped>\n",
       "    .dataframe tbody tr th:only-of-type {\n",
       "        vertical-align: middle;\n",
       "    }\n",
       "\n",
       "    .dataframe tbody tr th {\n",
       "        vertical-align: top;\n",
       "    }\n",
       "\n",
       "    .dataframe thead th {\n",
       "        text-align: right;\n",
       "    }\n",
       "</style>\n",
       "<table border=\"1\" class=\"dataframe\">\n",
       "  <thead>\n",
       "    <tr style=\"text-align: right;\">\n",
       "      <th></th>\n",
       "      <th>sepal length</th>\n",
       "      <th>sepal width</th>\n",
       "      <th>petal length</th>\n",
       "      <th>petal width</th>\n",
       "      <th>target</th>\n",
       "    </tr>\n",
       "  </thead>\n",
       "  <tbody>\n",
       "    <tr>\n",
       "      <th>0</th>\n",
       "      <td>5.1</td>\n",
       "      <td>3.5</td>\n",
       "      <td>1.4</td>\n",
       "      <td>0.2</td>\n",
       "      <td>Iris-setosa</td>\n",
       "    </tr>\n",
       "    <tr>\n",
       "      <th>1</th>\n",
       "      <td>4.9</td>\n",
       "      <td>3.0</td>\n",
       "      <td>1.4</td>\n",
       "      <td>0.2</td>\n",
       "      <td>Iris-setosa</td>\n",
       "    </tr>\n",
       "    <tr>\n",
       "      <th>2</th>\n",
       "      <td>4.7</td>\n",
       "      <td>3.2</td>\n",
       "      <td>1.3</td>\n",
       "      <td>0.2</td>\n",
       "      <td>Iris-setosa</td>\n",
       "    </tr>\n",
       "    <tr>\n",
       "      <th>3</th>\n",
       "      <td>4.6</td>\n",
       "      <td>3.1</td>\n",
       "      <td>1.5</td>\n",
       "      <td>0.2</td>\n",
       "      <td>Iris-setosa</td>\n",
       "    </tr>\n",
       "    <tr>\n",
       "      <th>4</th>\n",
       "      <td>5.0</td>\n",
       "      <td>3.6</td>\n",
       "      <td>1.4</td>\n",
       "      <td>0.2</td>\n",
       "      <td>Iris-setosa</td>\n",
       "    </tr>\n",
       "  </tbody>\n",
       "</table>\n",
       "</div>"
      ],
      "text/plain": [
       "   sepal length  sepal width  petal length  petal width       target\n",
       "0           5.1          3.5           1.4          0.2  Iris-setosa\n",
       "1           4.9          3.0           1.4          0.2  Iris-setosa\n",
       "2           4.7          3.2           1.3          0.2  Iris-setosa\n",
       "3           4.6          3.1           1.5          0.2  Iris-setosa\n",
       "4           5.0          3.6           1.4          0.2  Iris-setosa"
      ]
     },
     "execution_count": 4,
     "metadata": {},
     "output_type": "execute_result"
    }
   ],
   "source": [
    "df.head(5)\n"
   ]
  },
  {
   "cell_type": "code",
   "execution_count": 5,
   "metadata": {},
   "outputs": [
    {
     "name": "stdout",
     "output_type": "stream",
     "text": [
      "<class 'pandas.core.frame.DataFrame'>\n",
      "RangeIndex: 150 entries, 0 to 149\n",
      "Data columns (total 5 columns):\n",
      "sepal length    150 non-null float64\n",
      "sepal width     150 non-null float64\n",
      "petal length    150 non-null float64\n",
      "petal width     150 non-null float64\n",
      "target          150 non-null object\n",
      "dtypes: float64(4), object(1)\n",
      "memory usage: 5.9+ KB\n"
     ]
    }
   ],
   "source": [
    "df.info()"
   ]
  },
  {
   "cell_type": "markdown",
   "metadata": {},
   "source": [
    "## Visualizing the 4 dimensional dataset using PCA"
   ]
  },
  {
   "cell_type": "markdown",
   "metadata": {},
   "source": [
    "### Normalize the dataset first"
   ]
  },
  {
   "cell_type": "code",
   "execution_count": 6,
   "metadata": {},
   "outputs": [],
   "source": [
    "features = ['sepal length', 'sepal width', 'petal length', 'petal width']\n",
    "\n",
    "# Separating out the features\n",
    "X = df.loc[:, features].values\n",
    "# Separating out the target\n",
    "y = df.loc[:,['target']].values"
   ]
  },
  {
   "cell_type": "code",
   "execution_count": 7,
   "metadata": {},
   "outputs": [],
   "source": [
    "# Standardizing the features\n",
    "X_scaled = StandardScaler().fit_transform(X)"
   ]
  },
  {
   "cell_type": "markdown",
   "metadata": {},
   "source": [
    "### PCA Projection into 2D"
   ]
  },
  {
   "cell_type": "code",
   "execution_count": 8,
   "metadata": {},
   "outputs": [],
   "source": [
    "#Get the first 2 PCA components only\n",
    "pca = PCA(n_components=2) #0.99 - 99% of fdata\n",
    "principalComponents = pca.fit_transform(X_scaled)"
   ]
  },
  {
   "cell_type": "code",
   "execution_count": 9,
   "metadata": {},
   "outputs": [
    {
     "data": {
      "text/plain": [
       "array([[-2.26454173e+00,  5.05703903e-01],\n",
       "       [-2.08642550e+00, -6.55404729e-01],\n",
       "       [-2.36795045e+00, -3.18477311e-01],\n",
       "       [-2.30419716e+00, -5.75367713e-01],\n",
       "       [-2.38877749e+00,  6.74767397e-01],\n",
       "       [-2.07053681e+00,  1.51854856e+00],\n",
       "       [-2.44571134e+00,  7.45626750e-02],\n",
       "       [-2.23384186e+00,  2.47613932e-01],\n",
       "       [-2.34195768e+00, -1.09514636e+00],\n",
       "       [-2.18867576e+00, -4.48629048e-01],\n",
       "       [-2.16348656e+00,  1.07059558e+00],\n",
       "       [-2.32737775e+00,  1.58587455e-01],\n",
       "       [-2.22408272e+00, -7.09118158e-01],\n",
       "       [-2.63971626e+00, -9.38281982e-01],\n",
       "       [-2.19229151e+00,  1.88997851e+00],\n",
       "       [-2.25146521e+00,  2.72237108e+00],\n",
       "       [-2.20275048e+00,  1.51375028e+00],\n",
       "       [-2.19017916e+00,  5.14304308e-01],\n",
       "       [-1.89407429e+00,  1.43111071e+00],\n",
       "       [-2.33994907e+00,  1.15803343e+00],\n",
       "       [-1.91455639e+00,  4.30465163e-01],\n",
       "       [-2.20464540e+00,  9.52457317e-01],\n",
       "       [-2.77416979e+00,  4.89517027e-01],\n",
       "       [-1.82041156e+00,  1.06750793e-01],\n",
       "       [-2.22821750e+00,  1.62186163e-01],\n",
       "       [-1.95702401e+00, -6.07892567e-01],\n",
       "       [-2.05206331e+00,  2.66014312e-01],\n",
       "       [-2.16819365e+00,  5.52016495e-01],\n",
       "       [-2.14030596e+00,  3.36640409e-01],\n",
       "       [-2.26879019e+00, -3.14878603e-01],\n",
       "       [-2.14455443e+00, -4.83942097e-01],\n",
       "       [-1.83193810e+00,  4.45266836e-01],\n",
       "       [-2.60820287e+00,  1.82847519e+00],\n",
       "       [-2.43795086e+00,  2.18539162e+00],\n",
       "       [-2.18867576e+00, -4.48629048e-01],\n",
       "       [-2.21111990e+00, -1.84337811e-01],\n",
       "       [-2.04441652e+00,  6.84956426e-01],\n",
       "       [-2.18867576e+00, -4.48629048e-01],\n",
       "       [-2.43595220e+00, -8.82169415e-01],\n",
       "       [-2.17054720e+00,  2.92726955e-01],\n",
       "       [-2.28652724e+00,  4.67991716e-01],\n",
       "       [-1.87170722e+00, -2.32769161e+00],\n",
       "       [-2.55783442e+00, -4.53816380e-01],\n",
       "       [-1.96427929e+00,  4.97391640e-01],\n",
       "       [-2.13337283e+00,  1.17143211e+00],\n",
       "       [-2.07535759e+00, -6.91917347e-01],\n",
       "       [-2.38125822e+00,  1.15063259e+00],\n",
       "       [-2.39819169e+00, -3.62390765e-01],\n",
       "       [-2.22678121e+00,  1.02548255e+00],\n",
       "       [-2.20595417e+00,  3.22378453e-02],\n",
       "       [ 1.10399365e+00,  8.63112446e-01],\n",
       "       [ 7.32481440e-01,  5.98635573e-01],\n",
       "       [ 1.24210951e+00,  6.14822450e-01],\n",
       "       [ 3.97307283e-01, -1.75816895e+00],\n",
       "       [ 1.07259395e+00, -2.11757903e-01],\n",
       "       [ 3.84458146e-01, -5.91062469e-01],\n",
       "       [ 7.48715076e-01,  7.78698611e-01],\n",
       "       [-4.97863388e-01, -1.84886877e+00],\n",
       "       [ 9.26222368e-01,  3.03308268e-02],\n",
       "       [ 4.96802558e-03, -1.02940111e+00],\n",
       "       [-1.24697461e-01, -2.65806268e+00],\n",
       "       [ 4.38730118e-01, -5.88812850e-02],\n",
       "       [ 5.51633981e-01, -1.77258156e+00],\n",
       "       [ 7.17165066e-01, -1.85434315e-01],\n",
       "       [-3.72583830e-02, -4.32795099e-01],\n",
       "       [ 8.75890536e-01,  5.09998151e-01],\n",
       "       [ 3.48006402e-01, -1.90621647e-01],\n",
       "       [ 1.53392545e-01, -7.90725456e-01],\n",
       "       [ 1.21530321e+00, -1.63335564e+00],\n",
       "       [ 1.56941176e-01, -1.30310327e+00],\n",
       "       [ 7.38256104e-01,  4.02470382e-01],\n",
       "       [ 4.72369682e-01, -4.16608222e-01],\n",
       "       [ 1.22798821e+00, -9.40914793e-01],\n",
       "       [ 6.29381045e-01, -4.16811643e-01],\n",
       "       [ 7.00472799e-01, -6.34939277e-02],\n",
       "       [ 8.73536987e-01,  2.50708611e-01],\n",
       "       [ 1.25422219e+00, -8.26200998e-02],\n",
       "       [ 1.35823985e+00,  3.28820266e-01],\n",
       "       [ 6.62126138e-01, -2.24346071e-01],\n",
       "       [-4.72815133e-02, -1.05721241e+00],\n",
       "       [ 1.21534209e-01, -1.56359238e+00],\n",
       "       [ 1.41182261e-02, -1.57339235e+00],\n",
       "       [ 2.36010837e-01, -7.75923784e-01],\n",
       "       [ 1.05669143e+00, -6.36901284e-01],\n",
       "       [ 2.21417088e-01, -2.80847693e-01],\n",
       "       [ 4.31783161e-01,  8.55136920e-01],\n",
       "       [ 1.04941336e+00,  5.22197265e-01],\n",
       "       [ 1.03587821e+00, -1.39246648e+00],\n",
       "       [ 6.70675999e-02, -2.12620735e-01],\n",
       "       [ 2.75425066e-01, -1.32981591e+00],\n",
       "       [ 2.72335066e-01, -1.11944152e+00],\n",
       "       [ 6.23170540e-01,  2.75426333e-02],\n",
       "       [ 3.30005364e-01, -9.88900732e-01],\n",
       "       [-3.73627623e-01, -2.01793227e+00],\n",
       "       [ 2.82944343e-01, -8.53950717e-01],\n",
       "       [ 8.90531103e-02, -1.74908548e-01],\n",
       "       [ 2.24356783e-01, -3.80484659e-01],\n",
       "       [ 5.73883486e-01, -1.53719974e-01],\n",
       "       [-4.57012873e-01, -1.53946451e+00],\n",
       "       [ 2.52244473e-01, -5.95860746e-01],\n",
       "       [ 1.84767259e+00,  8.71696662e-01],\n",
       "       [ 1.15318981e+00, -7.01326114e-01],\n",
       "       [ 2.20634950e+00,  5.54470105e-01],\n",
       "       [ 1.43868540e+00, -5.00105223e-02],\n",
       "       [ 1.86789070e+00,  2.91192802e-01],\n",
       "       [ 2.75419671e+00,  7.88432206e-01],\n",
       "       [ 3.58374475e-01, -1.56009458e+00],\n",
       "       [ 2.30300590e+00,  4.09516695e-01],\n",
       "       [ 2.00173530e+00, -7.23865359e-01],\n",
       "       [ 2.26755460e+00,  1.92144299e+00],\n",
       "       [ 1.36590943e+00,  6.93948040e-01],\n",
       "       [ 1.59906459e+00, -4.28248836e-01],\n",
       "       [ 1.88425185e+00,  4.14332758e-01],\n",
       "       [ 1.25308651e+00, -1.16739134e+00],\n",
       "       [ 1.46406152e+00, -4.44147569e-01],\n",
       "       [ 1.59180930e+00,  6.77035372e-01],\n",
       "       [ 1.47128019e+00,  2.53192472e-01],\n",
       "       [ 2.43737848e+00,  2.55675734e+00],\n",
       "       [ 3.30914118e+00, -2.36132010e-03],\n",
       "       [ 1.25398099e+00, -1.71758384e+00],\n",
       "       [ 2.04049626e+00,  9.07398765e-01],\n",
       "       [ 9.73915114e-01, -5.71174376e-01],\n",
       "       [ 2.89806444e+00,  3.97791359e-01],\n",
       "       [ 1.32919369e+00, -4.86760542e-01],\n",
       "       [ 1.70424071e+00,  1.01414842e+00],\n",
       "       [ 1.95772766e+00,  1.00333452e+00],\n",
       "       [ 1.17190451e+00, -3.18896617e-01],\n",
       "       [ 1.01978105e+00,  6.55429631e-02],\n",
       "       [ 1.78600886e+00, -1.93272800e-01],\n",
       "       [ 1.86477791e+00,  5.55381532e-01],\n",
       "       [ 2.43549739e+00,  2.46654468e-01],\n",
       "       [ 2.31608241e+00,  2.62618387e+00],\n",
       "       [ 1.86037143e+00, -1.84672394e-01],\n",
       "       [ 1.11127173e+00, -2.95986102e-01],\n",
       "       [ 1.19746916e+00, -8.17167742e-01],\n",
       "       [ 2.80094940e+00,  8.44748194e-01],\n",
       "       [ 1.58015525e+00,  1.07247450e+00],\n",
       "       [ 1.34704442e+00,  4.22255966e-01],\n",
       "       [ 9.23432978e-01,  1.92303705e-02],\n",
       "       [ 1.85355198e+00,  6.72422729e-01],\n",
       "       [ 2.01615720e+00,  6.10397038e-01],\n",
       "       [ 1.90311686e+00,  6.86024832e-01],\n",
       "       [ 1.15318981e+00, -7.01326114e-01],\n",
       "       [ 2.04330844e+00,  8.64684880e-01],\n",
       "       [ 2.00169097e+00,  1.04855005e+00],\n",
       "       [ 1.87052207e+00,  3.82821838e-01],\n",
       "       [ 1.55849189e+00, -9.05313601e-01],\n",
       "       [ 1.52084506e+00,  2.66794575e-01],\n",
       "       [ 1.37639119e+00,  1.01636193e+00],\n",
       "       [ 9.59298576e-01, -2.22839447e-02]])"
      ]
     },
     "execution_count": 9,
     "metadata": {},
     "output_type": "execute_result"
    }
   ],
   "source": [
    "#Output of PCA is a 2-dimensional array\n",
    "principalComponents "
   ]
  },
  {
   "cell_type": "code",
   "execution_count": 10,
   "metadata": {},
   "outputs": [],
   "source": [
    "# Put array into a neat DataFrame\n",
    "principalDf = pd.DataFrame(data = principalComponents, columns = ['PC 1', 'PC 2'])  "
   ]
  },
  {
   "cell_type": "code",
   "execution_count": 13,
   "metadata": {},
   "outputs": [
    {
     "data": {
      "text/html": [
       "<div>\n",
       "<style scoped>\n",
       "    .dataframe tbody tr th:only-of-type {\n",
       "        vertical-align: middle;\n",
       "    }\n",
       "\n",
       "    .dataframe tbody tr th {\n",
       "        vertical-align: top;\n",
       "    }\n",
       "\n",
       "    .dataframe thead th {\n",
       "        text-align: right;\n",
       "    }\n",
       "</style>\n",
       "<table border=\"1\" class=\"dataframe\">\n",
       "  <thead>\n",
       "    <tr style=\"text-align: right;\">\n",
       "      <th></th>\n",
       "      <th>PC 1</th>\n",
       "      <th>PC 2</th>\n",
       "    </tr>\n",
       "  </thead>\n",
       "  <tbody>\n",
       "    <tr>\n",
       "      <th>0</th>\n",
       "      <td>-2.264542</td>\n",
       "      <td>0.505704</td>\n",
       "    </tr>\n",
       "    <tr>\n",
       "      <th>1</th>\n",
       "      <td>-2.086426</td>\n",
       "      <td>-0.655405</td>\n",
       "    </tr>\n",
       "    <tr>\n",
       "      <th>2</th>\n",
       "      <td>-2.367950</td>\n",
       "      <td>-0.318477</td>\n",
       "    </tr>\n",
       "    <tr>\n",
       "      <th>3</th>\n",
       "      <td>-2.304197</td>\n",
       "      <td>-0.575368</td>\n",
       "    </tr>\n",
       "    <tr>\n",
       "      <th>4</th>\n",
       "      <td>-2.388777</td>\n",
       "      <td>0.674767</td>\n",
       "    </tr>\n",
       "  </tbody>\n",
       "</table>\n",
       "</div>"
      ],
      "text/plain": [
       "       PC 1      PC 2\n",
       "0 -2.264542  0.505704\n",
       "1 -2.086426 -0.655405\n",
       "2 -2.367950 -0.318477\n",
       "3 -2.304197 -0.575368\n",
       "4 -2.388777  0.674767"
      ]
     },
     "execution_count": 13,
     "metadata": {},
     "output_type": "execute_result"
    }
   ],
   "source": [
    "principalDf.head()"
   ]
  },
  {
   "cell_type": "code",
   "execution_count": 11,
   "metadata": {},
   "outputs": [],
   "source": [
    "#Add target column to the transformed DataFrame by using the Pandas concat() function \n",
    "finalDf = pd.concat([principalDf, df[['target']]], axis = 1)"
   ]
  },
  {
   "cell_type": "code",
   "execution_count": 12,
   "metadata": {},
   "outputs": [
    {
     "data": {
      "text/html": [
       "<div>\n",
       "<style scoped>\n",
       "    .dataframe tbody tr th:only-of-type {\n",
       "        vertical-align: middle;\n",
       "    }\n",
       "\n",
       "    .dataframe tbody tr th {\n",
       "        vertical-align: top;\n",
       "    }\n",
       "\n",
       "    .dataframe thead th {\n",
       "        text-align: right;\n",
       "    }\n",
       "</style>\n",
       "<table border=\"1\" class=\"dataframe\">\n",
       "  <thead>\n",
       "    <tr style=\"text-align: right;\">\n",
       "      <th></th>\n",
       "      <th>PC 1</th>\n",
       "      <th>PC 2</th>\n",
       "      <th>target</th>\n",
       "    </tr>\n",
       "  </thead>\n",
       "  <tbody>\n",
       "    <tr>\n",
       "      <th>0</th>\n",
       "      <td>-2.264542</td>\n",
       "      <td>0.505704</td>\n",
       "      <td>Iris-setosa</td>\n",
       "    </tr>\n",
       "    <tr>\n",
       "      <th>1</th>\n",
       "      <td>-2.086426</td>\n",
       "      <td>-0.655405</td>\n",
       "      <td>Iris-setosa</td>\n",
       "    </tr>\n",
       "    <tr>\n",
       "      <th>2</th>\n",
       "      <td>-2.367950</td>\n",
       "      <td>-0.318477</td>\n",
       "      <td>Iris-setosa</td>\n",
       "    </tr>\n",
       "    <tr>\n",
       "      <th>3</th>\n",
       "      <td>-2.304197</td>\n",
       "      <td>-0.575368</td>\n",
       "      <td>Iris-setosa</td>\n",
       "    </tr>\n",
       "    <tr>\n",
       "      <th>4</th>\n",
       "      <td>-2.388777</td>\n",
       "      <td>0.674767</td>\n",
       "      <td>Iris-setosa</td>\n",
       "    </tr>\n",
       "  </tbody>\n",
       "</table>\n",
       "</div>"
      ],
      "text/plain": [
       "       PC 1      PC 2       target\n",
       "0 -2.264542  0.505704  Iris-setosa\n",
       "1 -2.086426 -0.655405  Iris-setosa\n",
       "2 -2.367950 -0.318477  Iris-setosa\n",
       "3 -2.304197 -0.575368  Iris-setosa\n",
       "4 -2.388777  0.674767  Iris-setosa"
      ]
     },
     "execution_count": 12,
     "metadata": {},
     "output_type": "execute_result"
    }
   ],
   "source": [
    "finalDf.head()"
   ]
  },
  {
   "cell_type": "markdown",
   "metadata": {},
   "source": [
    "### Visualize 2D projection"
   ]
  },
  {
   "cell_type": "code",
   "execution_count": 14,
   "metadata": {},
   "outputs": [
    {
     "data": {
      "text/plain": [
       "<matplotlib.axes._subplots.AxesSubplot at 0xd717b70>"
      ]
     },
     "execution_count": 14,
     "metadata": {},
     "output_type": "execute_result"
    },
    {
     "data": {
      "image/png": "[encoded data removed]",
      "text/plain": [
       "<Figure size 720x504 with 1 Axes>"
      ]
     },
     "metadata": {
      "needs_background": "light"
     },
     "output_type": "display_data"
    }
   ],
   "source": [
    "#Visualize the Clusters\n",
    "fig, ax = plt.subplots(figsize=(10,7))\n",
    "ax.set_title('PCA (2 Components)', fontsize=20)\n",
    "sns.scatterplot(ax = ax, x=finalDf['PC 1'], y=finalDf['PC 2'], hue=finalDf.target)"
   ]
  },
  {
   "cell_type": "markdown",
   "metadata": {},
   "source": [
    "## Explained Variance\n",
    "<p>The explained variance tells us how much information (variance) can be attributed to each of the principal components.</p>"
   ]
  },
  {
   "cell_type": "code",
   "execution_count": 15,
   "metadata": {},
   "outputs": [
    {
     "data": {
      "text/plain": [
       "array([0.72770452, 0.23030523])"
      ]
     },
     "execution_count": 15,
     "metadata": {},
     "output_type": "execute_result"
    }
   ],
   "source": [
    "pca.explained_variance_ratio_"
   ]
  },
  {
   "cell_type": "markdown",
   "metadata": {},
   "source": [
    "To get the total variance explained by the PCA components, get the sum of the explained variance"
   ]
  },
  {
   "cell_type": "code",
   "execution_count": 16,
   "metadata": {},
   "outputs": [
    {
     "data": {
      "text/plain": [
       "0.9580097536148199"
      ]
     },
     "execution_count": 16,
     "metadata": {},
     "output_type": "execute_result"
    }
   ],
   "source": [
    "pca.explained_variance_ratio_.sum() #the formula"
   ]
  },
  {
   "cell_type": "markdown",
   "metadata": {},
   "source": [
    "Given this value, it can be said that 95.8% of the variance of our data is explained by these 2 Principal Components"
   ]
  }
 ],
 "metadata": {
  "hide_input": false,
  "kernelspec": {
   "display_name": "Python 3",
   "language": "python",
   "name": "python3"
  },
  "language_info": {
   "codemirror_mode": {
    "name": "ipython",
    "version": 3
   },
   "file_extension": ".py",
   "mimetype": "text/x-python",
   "name": "python",
   "nbconvert_exporter": "python",
   "pygments_lexer": "ipython3",
   "version": "3.7.3"
  },
  "toc": {
   "base_numbering": 1,
   "nav_menu": {},
   "number_sections": true,
   "sideBar": true,
   "skip_h1_title": true,
   "title_cell": "Table of Contents",
   "title_sidebar": "Contents",
   "toc_cell": false,
   "toc_position": {},
   "toc_section_display": true,
   "toc_window_display": false
  }
 },
 "nbformat": 4,
 "nbformat_minor": 2
}
